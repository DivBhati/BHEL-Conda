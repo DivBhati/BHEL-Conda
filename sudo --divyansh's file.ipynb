{
 "cells": [
  {
   "cell_type": "code",
   "execution_count": 1,
   "id": "f4057291",
   "metadata": {},
   "outputs": [
    {
     "name": "stdout",
     "output_type": "stream",
     "text": [
      "Z    20\n",
      "X    21\n",
      "C    32\n",
      "V    20\n",
      "B     5\n",
      "dtype: int64\n",
      "B     5\n",
      "Z    20\n",
      "V    20\n",
      "X    21\n",
      "C    32\n",
      "dtype: int64\n",
      "C    32\n",
      "X    21\n",
      "Z    20\n",
      "V    20\n",
      "B     5\n",
      "dtype: int64\n"
     ]
    }
   ],
   "source": [
    "import pandas as pd\n",
    "# Question 1 \n",
    "Name = [\"Z\",\"X\",\"C\",\"V\",\"B\"]\n",
    "Marks = [20,21,32,20,5]\n",
    "\n",
    "Data = pd.Series(Marks, index=Name)\n",
    "print(Data)\n",
    "ascmarks = Data.sort_values(ascending=True)\n",
    "print(ascmarks)\n",
    "descmarks = Data.sort_values(ascending=False)\n",
    "descmarks = pd.Series(descmarks)\n",
    "print(descmarks)"
   ]
  },
  {
   "cell_type": "code",
   "execution_count": 2,
   "id": "1a2aec68",
   "metadata": {},
   "outputs": [
    {
     "name": "stdout",
     "output_type": "stream",
     "text": [
      "  Name  Science  SST  English  Maths  GK\n",
      "1    X       12   23       21     21  20\n",
      "2    C       32   21       23     23  34\n",
      "3    Z       23   32       11     30  12\n",
      "4    M       10   39       17     29  40\n",
      "5    B       23    4       14     10   5\n"
     ]
    }
   ],
   "source": [
    "# Question 2 \n",
    "dic1 = {\n",
    "    \"Name\":[\"X\",\"C\",\"Z\",\"M\",\"B\"],\n",
    "    \"Science\":[12,32,23,10,23],\n",
    "    \"SST\":[23,21,32,39,4],\n",
    "    \"English\":[21,23,11,17,14],\n",
    "    \"Maths\":[21,23,30,29,10],\n",
    "    \"GK\":[20,34,12,40,5]\n",
    "}\n",
    "\n",
    "DataQuestion2 = pd.DataFrame(dic1, index=[1,2,3,4,5])\n",
    "print(DataQuestion2)"
   ]
  },
  {
   "cell_type": "code",
   "execution_count": 3,
   "id": "12f5869f",
   "metadata": {},
   "outputs": [
    {
     "name": "stdout",
     "output_type": "stream",
     "text": [
      "2    12\n",
      "3    23\n",
      "1    43\n",
      "4    10\n",
      "dtype: int64\n",
      "4    10\n",
      "3    23\n",
      "2    12\n",
      "1    43\n",
      "dtype: int64\n",
      "1    43\n",
      "2    12\n",
      "3    23\n",
      "4    10\n",
      "dtype: int64\n"
     ]
    }
   ],
   "source": [
    "# Question 3 \n",
    "\n",
    "Question3 = [12,23,43,10]\n",
    "\n",
    "DataQuestion3 = pd.Series(Question3, index=[2,3,1,4])\n",
    "print(DataQuestion3)\n",
    "descData = DataQuestion3.sort_index(ascending=False, axis=0)\n",
    "ascData = DataQuestion3.sort_index(ascending=True, axis=0)\n",
    "\n",
    "print(descData)\n",
    "print(ascData)"
   ]
  },
  {
   "cell_type": "code",
   "execution_count": 4,
   "id": "2c071a1b",
   "metadata": {},
   "outputs": [
    {
     "name": "stdout",
     "output_type": "stream",
     "text": [
      "Commerce    [1, 2, 3, 4, 5, 6, 7, 8, 9, 10, 11, 12, 13, 14...\n",
      "Arts        [1, 2, 3, 4, 5, 6, 7, 8, 9, 10, 11, 12, 13, 14...\n",
      "dtype: object\n"
     ]
    }
   ],
   "source": [
    "# Question 4 \n",
    "\n",
    "dic2 = {\n",
    "    \"Commerce\":[1,2,3,4,5,6,7,8,9,10,11,12,13,14,15,16,17,18],\n",
    "    \"Arts\":[1,2,3,4,5,6,7,8,9,10,11,12,13,14,15,16,17,18,19,20]\n",
    "}\n",
    "\n",
    "DataQuestion4 = pd.Series(dic2)\n",
    "print(DataQuestion4)"
   ]
  },
  {
   "cell_type": "code",
   "execution_count": 5,
   "id": "99089208",
   "metadata": {},
   "outputs": [
    {
     "data": {
      "text/plain": [
       "'\\nSales = {‘yr1’ : {‘q1’ : 34000, ‘q2’ : 56000, ‘q3’: 85000},\\n ‘yr2’ : {‘q1’ : 44000, ‘q2’ : 66000, ‘q3’: 55000} }'"
      ]
     },
     "execution_count": 5,
     "metadata": {},
     "output_type": "execute_result"
    }
   ],
   "source": [
    "# Question 5 \n",
    "'''\n",
    "Sales = {‘yr1’ : {‘q1’ : 34000, ‘q2’ : 56000, ‘q3’: 85000},\n",
    " ‘yr2’ : {‘q1’ : 44000, ‘q2’ : 66000, ‘q3’: 55000} }'''"
   ]
  },
  {
   "cell_type": "code",
   "execution_count": null,
   "id": "b3a0e9b1",
   "metadata": {},
   "outputs": [],
   "source": []
  }
 ],
 "metadata": {
  "kernelspec": {
   "display_name": "Python 3",
   "language": "python",
   "name": "python3"
  },
  "language_info": {
   "codemirror_mode": {
    "name": "ipython",
    "version": 3
   },
   "file_extension": ".py",
   "mimetype": "text/x-python",
   "name": "python",
   "nbconvert_exporter": "python",
   "pygments_lexer": "ipython3",
   "version": "3.8.8"
  }
 },
 "nbformat": 4,
 "nbformat_minor": 5
}
